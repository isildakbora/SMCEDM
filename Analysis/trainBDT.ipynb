{
 "cells": [
  {
   "cell_type": "code",
   "execution_count": 1,
   "metadata": {},
   "outputs": [],
   "source": [
    "%config InlineBackend.figure_format = \"retina\""
   ]
  },
  {
   "cell_type": "code",
   "execution_count": 2,
   "metadata": {},
   "outputs": [
    {
     "name": "stderr",
     "output_type": "stream",
     "text": [
      "In /home/bora/.local/lib/python3.6/site-packages/matplotlib/mpl-data/stylelib/_classic_test.mplstyle: \n",
      "The text.latex.preview rcparam was deprecated in Matplotlib 3.3 and will be removed two minor releases later.\n",
      "In /home/bora/.local/lib/python3.6/site-packages/matplotlib/mpl-data/stylelib/_classic_test.mplstyle: \n",
      "The mathtext.fallback_to_cm rcparam was deprecated in Matplotlib 3.3 and will be removed two minor releases later.\n",
      "In /home/bora/.local/lib/python3.6/site-packages/matplotlib/mpl-data/stylelib/_classic_test.mplstyle: Support for setting the 'mathtext.fallback_to_cm' rcParam is deprecated since 3.3 and will be removed two minor releases later; use 'mathtext.fallback : 'cm' instead.\n",
      "In /home/bora/.local/lib/python3.6/site-packages/matplotlib/mpl-data/stylelib/_classic_test.mplstyle: \n",
      "The validate_bool_maybe_none function was deprecated in Matplotlib 3.3 and will be removed two minor releases later.\n",
      "In /home/bora/.local/lib/python3.6/site-packages/matplotlib/mpl-data/stylelib/_classic_test.mplstyle: \n",
      "The savefig.jpeg_quality rcparam was deprecated in Matplotlib 3.3 and will be removed two minor releases later.\n",
      "In /home/bora/.local/lib/python3.6/site-packages/matplotlib/mpl-data/stylelib/_classic_test.mplstyle: \n",
      "The keymap.all_axes rcparam was deprecated in Matplotlib 3.3 and will be removed two minor releases later.\n",
      "In /home/bora/.local/lib/python3.6/site-packages/matplotlib/mpl-data/stylelib/_classic_test.mplstyle: \n",
      "The animation.avconv_path rcparam was deprecated in Matplotlib 3.3 and will be removed two minor releases later.\n",
      "In /home/bora/.local/lib/python3.6/site-packages/matplotlib/mpl-data/stylelib/_classic_test.mplstyle: \n",
      "The animation.avconv_args rcparam was deprecated in Matplotlib 3.3 and will be removed two minor releases later.\n"
     ]
    },
    {
     "name": "stdout",
     "output_type": "stream",
     "text": [
      "Welcome to JupyROOT 6.18/04\n"
     ]
    }
   ],
   "source": [
    "import matplotlib.pyplot as plt\n",
    "import math\n",
    "\n",
    "import numpy as np\n",
    "import pandas as pd\n",
    "\n",
    "import ROOT, uproot\n",
    "\n",
    "from sklearn.model_selection import train_test_split\n",
    "from sklearn import preprocessing\n",
    "from sklearn import feature_selection\n",
    "from sklearn.model_selection import StratifiedKFold\n",
    "\n",
    "from sklearn.ensemble import GradientBoostingClassifier"
   ]
  },
  {
   "cell_type": "code",
   "execution_count": 3,
   "metadata": {},
   "outputs": [],
   "source": [
    "def upsample(sample, scale):\n",
    "    '''\n",
    "    This function takes the sample and concatantes the same sample n times.\n",
    "    '''\n",
    "    if scale > 0:\n",
    "        sample = np.vstack([sample]*scale)\n",
    "    else:\n",
    "        sample = sample\n",
    "    return sample"
   ]
  },
  {
   "cell_type": "code",
   "execution_count": 4,
   "metadata": {},
   "outputs": [
    {
     "name": "stdout",
     "output_type": "stream",
     "text": [
      "Index(['br_njets', 'br_nbjets', 'br_scalar_ht', 'br_jet_pt_1', 'br_jet_pt_2',\n",
      "       'br_jet_pt_3', 'br_jet_pt_4', 'br_met', 'br_met_phi', 'br_sphericity',\n",
      "       'br_aplanarity', 'br_fox_wolfram_1', 'br_fox_wolfram_2',\n",
      "       'br_fox_wolfram_3', 'br_fox_wolfram_4', 'br_w_pt', 'br_w_eta',\n",
      "       'br_w_phi', 'br_operator_4', 'br_operator_9', 'br_operator_10',\n",
      "       'br_operator_12', 'br_operator_14'],\n",
      "      dtype='object')\n"
     ]
    }
   ],
   "source": [
    "input_branches  = ['br_njets', 'br_nbjets', 'br_scalar_ht',\n",
    "       'br_jet_pt_1', 'br_jet_pt_2', 'br_jet_pt_3', 'br_jet_pt_4', 'br_met',\n",
    "       'br_met_phi', 'br_sphericity', 'br_aplanarity', 'br_fox_wolfram_1',\n",
    "       'br_fox_wolfram_2', 'br_fox_wolfram_3', 'br_fox_wolfram_4', 'br_w_pt', 'br_w_eta', 'br_w_phi', \n",
    "       'br_operator_4', 'br_operator_9', 'br_operator_10', 'br_operator_12','br_operator_14' ]\n",
    "\n",
    "df_signal = uproot.open(\"/mnt/harddisk4/scratch/ttbar_no_dtG_flat.root\")[\"outtree\"].pandas.df(input_branches)\n",
    "df_dyjets = uproot.open(\"/mnt/harddisk4/scratch/dyjets_flat_30M.root\")[\"outtree\"].pandas.df(input_branches)\n",
    "df_wjets  = uproot.open(\"/mnt/harddisk4/scratch/wjets_flat_60M.root\")[\"outtree\"].pandas.df(input_branches)\n",
    "df_single_top  = uproot.open(\"/mnt/harddisk4/scratch/single_top_merged_flat.root\")[\"outtree\"].pandas.df(input_branches)\n",
    "print(df_signal.keys())\n",
    "#print(\"n_signal:\", len(df_signal), \"n_dyjets:\", len(df_dyjets), \"n_wjets:\", len(df_wjets), \"n_single_top\", len(df_single_top))"
   ]
  },
  {
   "cell_type": "code",
   "execution_count": 5,
   "metadata": {},
   "outputs": [
    {
     "name": "stdout",
     "output_type": "stream",
     "text": [
      "number of signal events:135342\n",
      "44662\n"
     ]
    }
   ],
   "source": [
    "x_signal = df_signal.values\n",
    "y_signal = np.full(len(x_signal) , 1)\n",
    "print(\"number of signal events:%d\" % (len(x_signal)))\n",
    "\n",
    "x_dyjets = df_dyjets.values\n",
    "x_wjets  = df_wjets.values\n",
    "x_single_top  = df_single_top.values\n",
    "\n",
    "x_wjets  = upsample(x_wjets,  int((len(x_signal)/len(x_wjets))))\n",
    "x_dyjets = upsample(x_dyjets, int((len(x_signal)/len(x_dyjets))))\n",
    "idx_max = int(0.33*len(x_signal))\n",
    "x_bkg    = np.concatenate((x_dyjets[0:idx_max], x_wjets[0:idx_max], x_single_top[0:idx_max]), axis=0)\n",
    "#x_bkg    = np.concatenate((x_dyjets[0:idx_max], x_single_top[0:idx_max]), axis=0)\n",
    "\n",
    "#x_bkg    = x_single_top[0:idx_max]\n",
    "y_bkg    = np.full(len(x_bkg) , 0)\n",
    "print(idx_max)"
   ]
  },
  {
   "cell_type": "code",
   "execution_count": 6,
   "metadata": {},
   "outputs": [],
   "source": [
    "x_sig_train, x_sig_test, y_sig_train, y_sig_test = train_test_split(x_signal, y_signal, test_size=0.2, random_state=20)\n",
    "x_bkg_train, x_bkg_test, y_bkg_train, y_bkg_test = train_test_split(x_bkg, y_bkg, test_size=0.5, random_state=20)\n",
    "\n",
    "x_train = np.concatenate((x_sig_train, x_bkg_train), axis=0)\n",
    "y_train = np.concatenate((y_sig_train, y_bkg_train), axis=0)\n",
    "\n",
    "x_test = np.concatenate((x_sig_test, x_bkg_test), axis=0)\n",
    "y_test = np.concatenate((y_sig_test, y_bkg_test), axis=0)\n",
    "                                  \n",
    "scaler  = preprocessing.StandardScaler().fit(np.concatenate((x_train, x_test), axis=0))\n",
    "x_train = scaler.transform(x_train)\n",
    "x_test  = scaler.transform(x_test)"
   ]
  },
  {
   "cell_type": "code",
   "execution_count": 7,
   "metadata": {},
   "outputs": [
    {
     "name": "stdout",
     "output_type": "stream",
     "text": [
      "training for 175266 events; testing for 94062 events\n"
     ]
    }
   ],
   "source": [
    "print(\"training for\", len(x_train), \"events;\", \"testing for\",  len(x_test), \"events\")"
   ]
  },
  {
   "cell_type": "code",
   "execution_count": 10,
   "metadata": {},
   "outputs": [
    {
     "data": {
      "text/plain": [
       "0.8142714379877102"
      ]
     },
     "execution_count": 10,
     "metadata": {},
     "output_type": "execute_result"
    }
   ],
   "source": [
    "model = GradientBoostingClassifier(n_estimators=50, learning_rate=1.0,\n",
    "    max_depth=5, random_state=0).fit(x_train, y_train)\n",
    "model.score(x_test, y_test)"
   ]
  },
  {
   "cell_type": "code",
   "execution_count": null,
   "metadata": {},
   "outputs": [],
   "source": [
    "from sklearn.metrics import accuracy_score\n",
    "accuracy_score(model.predict(x_test), y_test)"
   ]
  },
  {
   "cell_type": "code",
   "execution_count": null,
   "metadata": {},
   "outputs": [],
   "source": [
    "x_signal_trans = scaler.transform(x_signal)"
   ]
  },
  {
   "cell_type": "code",
   "execution_count": null,
   "metadata": {},
   "outputs": [],
   "source": [
    "output_array1 = model.predict_proba(scaler.transform(x_sig_train))\n",
    "output_array2 = model.predict_proba(scaler.transform(x_bkg_train))\n",
    "\n",
    "output_array3 = model.predict_proba(scaler.transform(x_sig_test))\n",
    "output_array4 = model.predict_proba(scaler.transform(x_bkg_test))"
   ]
  },
  {
   "cell_type": "code",
   "execution_count": null,
   "metadata": {},
   "outputs": [],
   "source": [
    "#print(model.evaluate(x_train, y_train))\n",
    "#print(model.evaluate(x_test, y_test))\n",
    "#print(model.evaluate(scaler.transform(x_signal), y_signal))\n",
    "#print(model.evaluate(scaler.transform(x_bkg), y_bkg))"
   ]
  },
  {
   "cell_type": "code",
   "execution_count": null,
   "metadata": {
    "scrolled": false
   },
   "outputs": [],
   "source": [
    "plt.style.use(\"seaborn\")\n",
    "fig, ax = plt.subplots()\n",
    "n_bins = 20\n",
    "\n",
    "y, bins, patches = ax.hist(output_array2[:,1], bins=n_bins, density=True, color='blue', alpha=0.5, label='background (training)')\n",
    "y, bins, patches = ax.hist(output_array4[:,1], bins=n_bins, density=True, color='blue', alpha=0.0)\n",
    "bin_centers = [0.5*(bins[i]+bins[i+1]) for i in range(len(bins)-1)]\n",
    "plt.scatter(bin_centers, y, marker='o', c='blue', s=40, alpha=1,  label='background (validation)')\n",
    "\n",
    "y, bins, patches = ax.hist(output_array1[:,1], bins=n_bins, density=True, color='red', alpha=0.5, label='signal (training)')\n",
    "y, bins, patches = ax.hist(output_array3[:,1], bins=n_bins, density=True, color='red', alpha=0.0)\n",
    "bin_centers = [0.5*(bins[i]+bins[i+1]) for i in range(len(bins)-1)]\n",
    "plt.scatter(0.5*(bins[1:] + bins[:-1]), y, marker='o', c='red', s=40, alpha=1, label='signal (validation)')\n",
    "\n",
    "ax.set_xlabel('model output')\n",
    "ax.set_ylabel('Probability density')\n",
    "ax.set_title(\"BDT Classifier\")\n",
    "ax.legend()\n",
    "#ax.set_yscale('log')"
   ]
  },
  {
   "cell_type": "code",
   "execution_count": null,
   "metadata": {},
   "outputs": [],
   "source": [
    "def get_signal_significance(xsec_sig, xsec_bkg, lumi, output_sig, output_bkg, thresholds):\n",
    "    \n",
    "    significance = []\n",
    "    \n",
    "    for threshold in thresholds:\n",
    "        \n",
    "        n_sig_expected = xsec_sig * lumi\n",
    "        n_bkg_expected = xsec_bkg * lumi\n",
    "        \n",
    "        n_sig_pred_correct = len(output_sig[output_sig>threshold])\n",
    "        n_sig_pred_wrong   = len(output_sig[output_sig<threshold])\n",
    "        n_bkg_pred_correct = len(output_bkg[output_bkg<threshold])\n",
    "        n_bkg_pred_wrong   = len(output_bkg[output_bkg>threshold])\n",
    "        \n",
    "        eff_sig = n_sig_pred_correct/len(output_sig)\n",
    "        eff_bkg = n_bkg_pred_correct/len(output_bkg)\n",
    "        \n",
    "        n_sig = n_sig_expected * eff_sig\n",
    "        n_bkg = n_bkg_expected * (1-eff_bkg)\n",
    "        \n",
    "        n_observed = n_sig + n_bkg\n",
    "        \n",
    "        if n_bkg > 0:\n",
    "            sig = math.sqrt(2*n_observed*math.log(1+n_sig/n_bkg)-2*n_sig)\n",
    "            #sig = n_sig/math.sqrt(n_sig+n_bkg)\n",
    "        else:\n",
    "            sig = 0\n",
    "        \n",
    "        print(\"threshold:\", \"{:.3f}\".format(threshold), \"\\n\"\n",
    "              \"eff_sig:\", \"{:.3f}\".format(eff_sig),\n",
    "              \"eff_bkg:\", \"{:.3f}\".format(eff_bkg),\n",
    "              \"n_sig:\", \"{:.0f}\".format(n_sig), \n",
    "              \"n_bkg:\", \"{:.0f}\".format(n_bkg),\n",
    "              \"n_observed:\", \"{:.0f}\".format(n_observed), \"\\n\",\n",
    "              \"significance:\", \"{:.3f}\".format(sig), \"\\n\\n\")\n",
    "        \n",
    "        significance.append(sig)    \n",
    "        \n",
    "    return thresholds, np.array(significance)"
   ]
  },
  {
   "cell_type": "code",
   "execution_count": null,
   "metadata": {
    "scrolled": true
   },
   "outputs": [],
   "source": [
    "thresholds , significance = get_signal_significance(1, 100, 50000, output_array1, \n",
    "                                                    output_array2, np.arange(0.1, 1-1e-3, 1e-2))"
   ]
  },
  {
   "cell_type": "code",
   "execution_count": null,
   "metadata": {},
   "outputs": [],
   "source": [
    "max_sig_threshold = thresholds[np.where(significance==max(significance))][0]\n",
    "print(max(significance))\n",
    "plt.figure(1)\n",
    "plt.plot([max_sig_threshold, max_sig_threshold], [0, 1.05*max(significance)], 'k--')\n",
    "plt.plot(thresholds, significance, label='maximum signal significance \\n@ threshold = {:.3f}'.format(max_sig_threshold), color=\"red\")\n",
    "plt.xlabel('threshold')\n",
    "plt.ylabel(r\"$S/\\sqrt{S+B}$\")\n",
    "plt.ylim([0.5*max(significance),1.1*max(significance)])\n",
    "plt.title('signal significance')\n",
    "plt.legend(loc=\"best\")\n",
    "plt.savefig(\"significance.pdf\")"
   ]
  },
  {
   "cell_type": "code",
   "execution_count": null,
   "metadata": {},
   "outputs": [],
   "source": [
    "from sklearn.metrics import roc_curve\n",
    "y_pred_keras = model.predict_proba(x_test)[:,1]\n",
    "fpr_keras, tpr_keras, thresholds_keras = roc_curve(y_test, y_pred_keras)\n",
    "\n",
    "from sklearn.metrics import auc\n",
    "auc_keras = auc(fpr_keras, tpr_keras)"
   ]
  },
  {
   "cell_type": "code",
   "execution_count": null,
   "metadata": {
    "scrolled": true
   },
   "outputs": [],
   "source": [
    "plt.figure(1)\n",
    "plt.plot([0, 1], [0, 1], 'k--')\n",
    "plt.plot(fpr_keras,tpr_keras, label='(AUC = {:.3f})'.format(auc_keras))\n",
    "plt.xlabel('False positive rate')\n",
    "plt.ylabel('True positive rate')\n",
    "plt.title('ROC curve')\n",
    "plt.legend(loc='best')\n",
    "plt.show()"
   ]
  },
  {
   "cell_type": "code",
   "execution_count": null,
   "metadata": {},
   "outputs": [],
   "source": [
    "from sklearn.metrics import confusion_matrix\n",
    "tn, fp, fn, tp = confusion_matrix(y_test, np.where(y_pred_keras > 0.5, 1, 0)).ravel()\n",
    "accuracy    = (tp+tn)/len(y_test)\n",
    "specificity = tn / (tn+fp)\n",
    "sensitivity = tp / (tn+tp)\n",
    "print(\"accuracy:\", accuracy,\" specificity:\", specificity, \" sensitivity:\", sensitivity);"
   ]
  },
  {
   "cell_type": "code",
   "execution_count": null,
   "metadata": {},
   "outputs": [],
   "source": []
  }
 ],
 "metadata": {
  "kernelspec": {
   "display_name": "Python 2",
   "language": "python",
   "name": "python2"
  },
  "language_info": {
   "codemirror_mode": {
    "name": "ipython",
    "version": 3
   },
   "file_extension": ".py",
   "mimetype": "text/x-python",
   "name": "python",
   "nbconvert_exporter": "python",
   "pygments_lexer": "ipython3",
   "version": "3.6.9"
  }
 },
 "nbformat": 4,
 "nbformat_minor": 2
}
