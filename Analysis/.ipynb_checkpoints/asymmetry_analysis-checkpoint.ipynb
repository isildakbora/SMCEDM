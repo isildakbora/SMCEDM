{
 "cells": [
  {
   "cell_type": "code",
   "execution_count": 1,
   "metadata": {},
   "outputs": [
    {
     "data": {
      "text/html": [
       "<style>.container { width:100% !important; }</style>"
      ],
      "text/plain": [
       "<IPython.core.display.HTML object>"
      ]
     },
     "metadata": {},
     "output_type": "display_data"
    }
   ],
   "source": [
    "%config InlineBackend.figure_format = \"retina\"\n",
    "from IPython.core.display import display, HTML\n",
    "display(HTML(\"<style>.container { width:100% !important; }</style>\"))"
   ]
  },
  {
   "cell_type": "code",
   "execution_count": 2,
   "metadata": {},
   "outputs": [
    {
     "name": "stdout",
     "output_type": "stream",
     "text": [
      "Welcome to JupyROOT 6.18/04\n"
     ]
    },
    {
     "name": "stderr",
     "output_type": "stream",
     "text": [
      "In /home/bora/.local/lib/python3.6/site-packages/matplotlib/mpl-data/stylelib/_classic_test.mplstyle: \n",
      "The text.latex.preview rcparam was deprecated in Matplotlib 3.3 and will be removed two minor releases later.\n",
      "In /home/bora/.local/lib/python3.6/site-packages/matplotlib/mpl-data/stylelib/_classic_test.mplstyle: \n",
      "The mathtext.fallback_to_cm rcparam was deprecated in Matplotlib 3.3 and will be removed two minor releases later.\n",
      "In /home/bora/.local/lib/python3.6/site-packages/matplotlib/mpl-data/stylelib/_classic_test.mplstyle: Support for setting the 'mathtext.fallback_to_cm' rcParam is deprecated since 3.3 and will be removed two minor releases later; use 'mathtext.fallback : 'cm' instead.\n",
      "In /home/bora/.local/lib/python3.6/site-packages/matplotlib/mpl-data/stylelib/_classic_test.mplstyle: \n",
      "The validate_bool_maybe_none function was deprecated in Matplotlib 3.3 and will be removed two minor releases later.\n",
      "In /home/bora/.local/lib/python3.6/site-packages/matplotlib/mpl-data/stylelib/_classic_test.mplstyle: \n",
      "The savefig.jpeg_quality rcparam was deprecated in Matplotlib 3.3 and will be removed two minor releases later.\n",
      "In /home/bora/.local/lib/python3.6/site-packages/matplotlib/mpl-data/stylelib/_classic_test.mplstyle: \n",
      "The keymap.all_axes rcparam was deprecated in Matplotlib 3.3 and will be removed two minor releases later.\n",
      "In /home/bora/.local/lib/python3.6/site-packages/matplotlib/mpl-data/stylelib/_classic_test.mplstyle: \n",
      "The animation.avconv_path rcparam was deprecated in Matplotlib 3.3 and will be removed two minor releases later.\n",
      "In /home/bora/.local/lib/python3.6/site-packages/matplotlib/mpl-data/stylelib/_classic_test.mplstyle: \n",
      "The animation.avconv_args rcparam was deprecated in Matplotlib 3.3 and will be removed two minor releases later.\n"
     ]
    }
   ],
   "source": [
    "import ROOT\n",
    "import numpy as np\n",
    "import pandas as pd\n",
    "import matplotlib.pyplot as plt\n",
    "import uproot"
   ]
  },
  {
   "cell_type": "code",
   "execution_count": 3,
   "metadata": {},
   "outputs": [
    {
     "name": "stderr",
     "output_type": "stream",
     "text": [
      "Using TensorFlow backend.\n",
      "/home/bora/.local/lib/python3.6/site-packages/tensorflow/python/framework/dtypes.py:516: FutureWarning: Passing (type, 1) or '1type' as a synonym of type is deprecated; in a future version of numpy, it will be understood as (type, (1,)) / '(1,)type'.\n",
      "  _np_qint8 = np.dtype([(\"qint8\", np.int8, 1)])\n",
      "/home/bora/.local/lib/python3.6/site-packages/tensorflow/python/framework/dtypes.py:517: FutureWarning: Passing (type, 1) or '1type' as a synonym of type is deprecated; in a future version of numpy, it will be understood as (type, (1,)) / '(1,)type'.\n",
      "  _np_quint8 = np.dtype([(\"quint8\", np.uint8, 1)])\n",
      "/home/bora/.local/lib/python3.6/site-packages/tensorflow/python/framework/dtypes.py:518: FutureWarning: Passing (type, 1) or '1type' as a synonym of type is deprecated; in a future version of numpy, it will be understood as (type, (1,)) / '(1,)type'.\n",
      "  _np_qint16 = np.dtype([(\"qint16\", np.int16, 1)])\n",
      "/home/bora/.local/lib/python3.6/site-packages/tensorflow/python/framework/dtypes.py:519: FutureWarning: Passing (type, 1) or '1type' as a synonym of type is deprecated; in a future version of numpy, it will be understood as (type, (1,)) / '(1,)type'.\n",
      "  _np_quint16 = np.dtype([(\"quint16\", np.uint16, 1)])\n",
      "/home/bora/.local/lib/python3.6/site-packages/tensorflow/python/framework/dtypes.py:520: FutureWarning: Passing (type, 1) or '1type' as a synonym of type is deprecated; in a future version of numpy, it will be understood as (type, (1,)) / '(1,)type'.\n",
      "  _np_qint32 = np.dtype([(\"qint32\", np.int32, 1)])\n",
      "/home/bora/.local/lib/python3.6/site-packages/tensorflow/python/framework/dtypes.py:525: FutureWarning: Passing (type, 1) or '1type' as a synonym of type is deprecated; in a future version of numpy, it will be understood as (type, (1,)) / '(1,)type'.\n",
      "  np_resource = np.dtype([(\"resource\", np.ubyte, 1)])\n",
      "/home/bora/.local/lib/python3.6/site-packages/tensorboard/compat/tensorflow_stub/dtypes.py:541: FutureWarning: Passing (type, 1) or '1type' as a synonym of type is deprecated; in a future version of numpy, it will be understood as (type, (1,)) / '(1,)type'.\n",
      "  _np_qint8 = np.dtype([(\"qint8\", np.int8, 1)])\n",
      "/home/bora/.local/lib/python3.6/site-packages/tensorboard/compat/tensorflow_stub/dtypes.py:542: FutureWarning: Passing (type, 1) or '1type' as a synonym of type is deprecated; in a future version of numpy, it will be understood as (type, (1,)) / '(1,)type'.\n",
      "  _np_quint8 = np.dtype([(\"quint8\", np.uint8, 1)])\n",
      "/home/bora/.local/lib/python3.6/site-packages/tensorboard/compat/tensorflow_stub/dtypes.py:543: FutureWarning: Passing (type, 1) or '1type' as a synonym of type is deprecated; in a future version of numpy, it will be understood as (type, (1,)) / '(1,)type'.\n",
      "  _np_qint16 = np.dtype([(\"qint16\", np.int16, 1)])\n",
      "/home/bora/.local/lib/python3.6/site-packages/tensorboard/compat/tensorflow_stub/dtypes.py:544: FutureWarning: Passing (type, 1) or '1type' as a synonym of type is deprecated; in a future version of numpy, it will be understood as (type, (1,)) / '(1,)type'.\n",
      "  _np_quint16 = np.dtype([(\"quint16\", np.uint16, 1)])\n",
      "/home/bora/.local/lib/python3.6/site-packages/tensorboard/compat/tensorflow_stub/dtypes.py:545: FutureWarning: Passing (type, 1) or '1type' as a synonym of type is deprecated; in a future version of numpy, it will be understood as (type, (1,)) / '(1,)type'.\n",
      "  _np_qint32 = np.dtype([(\"qint32\", np.int32, 1)])\n",
      "/home/bora/.local/lib/python3.6/site-packages/tensorboard/compat/tensorflow_stub/dtypes.py:550: FutureWarning: Passing (type, 1) or '1type' as a synonym of type is deprecated; in a future version of numpy, it will be understood as (type, (1,)) / '(1,)type'.\n",
      "  np_resource = np.dtype([(\"resource\", np.ubyte, 1)])\n"
     ]
    },
    {
     "name": "stdout",
     "output_type": "stream",
     "text": [
      "WARNING:tensorflow:From /home/bora/.local/lib/python3.6/site-packages/keras/backend/tensorflow_backend.py:422: The name tf.global_variables is deprecated. Please use tf.compat.v1.global_variables instead.\n",
      "\n"
     ]
    },
    {
     "name": "stderr",
     "output_type": "stream",
     "text": [
      "2021-05-31 23:21:10.245590: I tensorflow/core/platform/cpu_feature_guard.cc:142] Your CPU supports instructions that this TensorFlow binary was not compiled to use: AVX2 AVX512F FMA\n",
      "2021-05-31 23:21:10.253207: I tensorflow/stream_executor/platform/default/dso_loader.cc:42] Successfully opened dynamic library libcuda.so.1\n",
      "2021-05-31 23:21:10.404183: I tensorflow/compiler/xla/service/service.cc:168] XLA service 0x954e720 executing computations on platform CUDA. Devices:\n",
      "2021-05-31 23:21:10.404243: I tensorflow/compiler/xla/service/service.cc:175]   StreamExecutor device (0): Quadro RTX 5000, Compute Capability 7.5\n",
      "2021-05-31 23:21:10.412237: I tensorflow/core/platform/profile_utils/cpu_utils.cc:94] CPU Frequency: 2600000000 Hz\n",
      "2021-05-31 23:21:10.417508: I tensorflow/compiler/xla/service/service.cc:168] XLA service 0x9739d30 executing computations on platform Host. Devices:\n",
      "2021-05-31 23:21:10.417554: I tensorflow/compiler/xla/service/service.cc:175]   StreamExecutor device (0): <undefined>, <undefined>\n",
      "2021-05-31 23:21:10.420045: I tensorflow/core/common_runtime/gpu/gpu_device.cc:1640] Found device 0 with properties: \n",
      "name: Quadro RTX 5000 major: 7 minor: 5 memoryClockRate(GHz): 1.815\n",
      "pciBusID: 0000:2d:00.0\n",
      "2021-05-31 23:21:10.420536: I tensorflow/stream_executor/platform/default/dso_loader.cc:42] Successfully opened dynamic library libcudart.so.10.0\n",
      "2021-05-31 23:21:10.423017: I tensorflow/stream_executor/platform/default/dso_loader.cc:42] Successfully opened dynamic library libcublas.so.10.0\n",
      "2021-05-31 23:21:10.425231: I tensorflow/stream_executor/platform/default/dso_loader.cc:42] Successfully opened dynamic library libcufft.so.10.0\n",
      "2021-05-31 23:21:10.425861: I tensorflow/stream_executor/platform/default/dso_loader.cc:42] Successfully opened dynamic library libcurand.so.10.0\n",
      "2021-05-31 23:21:10.428769: I tensorflow/stream_executor/platform/default/dso_loader.cc:42] Successfully opened dynamic library libcusolver.so.10.0\n",
      "2021-05-31 23:21:10.430874: I tensorflow/stream_executor/platform/default/dso_loader.cc:42] Successfully opened dynamic library libcusparse.so.10.0\n",
      "2021-05-31 23:21:10.435903: I tensorflow/stream_executor/platform/default/dso_loader.cc:42] Successfully opened dynamic library libcudnn.so.7\n",
      "2021-05-31 23:21:10.438406: I tensorflow/core/common_runtime/gpu/gpu_device.cc:1763] Adding visible gpu devices: 0\n",
      "2021-05-31 23:21:10.438463: I tensorflow/stream_executor/platform/default/dso_loader.cc:42] Successfully opened dynamic library libcudart.so.10.0\n",
      "2021-05-31 23:21:10.440491: I tensorflow/core/common_runtime/gpu/gpu_device.cc:1181] Device interconnect StreamExecutor with strength 1 edge matrix:\n",
      "2021-05-31 23:21:10.440505: I tensorflow/core/common_runtime/gpu/gpu_device.cc:1187]      0 \n",
      "2021-05-31 23:21:10.440513: I tensorflow/core/common_runtime/gpu/gpu_device.cc:1200] 0:   N \n",
      "2021-05-31 23:21:10.442371: I tensorflow/core/common_runtime/gpu/gpu_device.cc:1326] Created TensorFlow device (/job:localhost/replica:0/task:0/device:GPU:0 with 14222 MB memory) -> physical GPU (device: 0, name: Quadro RTX 5000, pci bus id: 0000:2d:00.0, compute capability: 7.5)\n"
     ]
    }
   ],
   "source": [
    "from keras.models import load_model\n",
    "# load model\n",
    "model = load_model('model.h5')"
   ]
  },
  {
   "cell_type": "code",
   "execution_count": 4,
   "metadata": {},
   "outputs": [],
   "source": [
    "branches = ['br_njets', 'br_nbjets', 'br_scalar_ht',\n",
    "       'br_jet_pt_1', 'br_jet_pt_2', 'br_jet_pt_3', 'br_jet_pt_4', 'br_met',\n",
    "       'br_met_phi', 'br_sphericity', 'br_aplanarity', 'br_fox_wolfram_1',\n",
    "       'br_fox_wolfram_2', 'br_fox_wolfram_3', 'br_fox_wolfram_4', 'br_w_pt', 'br_w_eta', 'br_w_phi', \n",
    "       'br_operator_4', 'br_operator_9', 'br_operator_10', 'br_operator_12','br_operator_14' ]\n",
    "\n",
    "input_branches = ['br_njets', 'br_nbjets', 'br_scalar_ht',\n",
    "       'br_jet_pt_1', 'br_jet_pt_2', 'br_jet_pt_3', 'br_jet_pt_4', 'br_met',\n",
    "       'br_met_phi', 'br_sphericity', 'br_aplanarity', 'br_fox_wolfram_1',\n",
    "       'br_fox_wolfram_2', 'br_fox_wolfram_3', 'br_fox_wolfram_4', 'br_w_pt', 'br_w_eta', 'br_w_phi']\n",
    "\n",
    "df_sig_nodtG = uproot.open(\"/mnt/harddisk4/scratch/ttbar_no_dtG_flat.root\")[\"outtree\"].pandas.df(branches)\n",
    "df_sig_dtG1  = uproot.open(\"/mnt/harddisk4/scratch/signal_dtG1_flat.root\")[\"outtree\"].pandas.df(branches)\n",
    "df_sig_dtG2  = uproot.open(\"/mnt/harddisk4/scratch/signal_dtG2_flat.root\")[\"outtree\"].pandas.df(branches)\n",
    "df_sig_dtG3  = uproot.open(\"/mnt/harddisk4/scratch/signal_dtG3_flat.root\")[\"outtree\"].pandas.df(branches)\n",
    "df_sig_dtG4  = uproot.open(\"/mnt/harddisk4/scratch/signal_dtG4_flat.root\")[\"outtree\"].pandas.df(branches)\n",
    "df_sig_dtG5  = uproot.open(\"/mnt/harddisk4/scratch/signal_dtG5_flat.root\")[\"outtree\"].pandas.df(branches)\n",
    "df_sig_dtG10 = uproot.open(\"/mnt/harddisk4/scratch/signal_dtG10_flat.root\")[\"outtree\"].pandas.df(branches)\n",
    "\n",
    "df_dyjets      = uproot.open(\"/mnt/harddisk4/scratch/dyjets_flat_30M.root\")[\"outtree\"].pandas.df(branches)\n",
    "df_wjets       = uproot.open(\"/mnt/harddisk4/scratch/wjets_flat_60M.root\")[\"outtree\"].pandas.df(branches)\n",
    "df_single_top  = uproot.open(\"/mnt/harddisk4/scratch/single_top_merged_flat.root\")[\"outtree\"].pandas.df(branches)\n",
    "\n",
    "#df_sig_nodtG   = pd.read_hdf(\"test_data.h5\",\"df_sig_test\")\n",
    "#df_dyjets      = pd.read_hdf(\"test_data.h5\",\"df_dyjets_test\")\n",
    "#df_wjets       = pd.read_hdf(\"test_data.h5\",\"df_wjets_test\")\n",
    "#df_single_top  = pd.read_hdf(\"test_data.h5\",\"df_single_top_test\")"
   ]
  },
  {
   "cell_type": "code",
   "execution_count": 5,
   "metadata": {},
   "outputs": [
    {
     "name": "stdout",
     "output_type": "stream",
     "text": [
      "{'signal': 1000000, 'dyjets': 30281892, 'wjets': 56058406, 'single_top': 10000000}\n"
     ]
    }
   ],
   "source": [
    "xsec = {\"signal\":0.3*832, \"dyjets\":6500, \"wjets\":123000, \"single_top\":0.2*286.7}\n",
    "\n",
    "ngen_signal     = len(uproot.open(\"/mnt/harddisk4/scratch/signal_dtG1_delphes.root\")[\"Delphes\"])\n",
    "ngen_dyjets     = len(uproot.open(\"/mnt/harddisk4/scratch/dyjets_delphes_30M.root\")[\"Delphes\"])\n",
    "ngen_wjets      = len(uproot.open(\"/mnt/harddisk4/scratch/wjets_delphes_60M.root\")[\"Delphes\"])\n",
    "ngen_single_top = len(uproot.open(\"/mnt/harddisk4/scratch/single_top_merged_delphes.root\")[\"Delphes\"])\n",
    "\n",
    "ngen = {\"signal\":ngen_signal, \"dyjets\":ngen_dyjets, \"wjets\":ngen_wjets, \"single_top\":ngen_single_top}\n",
    "print(ngen)"
   ]
  },
  {
   "cell_type": "code",
   "execution_count": 6,
   "metadata": {},
   "outputs": [],
   "source": [
    "def calc_asymmetry(df_sig, operator, threshold, nodtG=0):\n",
    "    lumi = 1\n",
    "    operator_name = 'br_operator_'+str(operator)\n",
    "    \n",
    "    from sklearn.externals import joblib\n",
    "    scaler = joblib.load(\"scaler.save\")\n",
    "    \n",
    "    batch_size = 2**20\n",
    "    sig_pred         = model.predict_proba(scaler.transform(df_sig[input_branches]), batch_size= batch_size)\n",
    "    dyjets_preds     = model.predict_proba(scaler.transform(df_dyjets[input_branches]), batch_size= batch_size)\n",
    "    wjets_preds      = model.predict_proba(scaler.transform(df_wjets[input_branches]), batch_size= batch_size)\n",
    "    single_top_preds = model.predict_proba(scaler.transform(df_single_top[input_branches]), batch_size= batch_size)\n",
    "    \n",
    "    if not nodtG:\n",
    "        mask         = (df_sig[operator_name] > 0.) & ((sig_pred >= threshold).flatten())\n",
    "        nsig_pos     = (xsec[\"signal\"] * lumi / ngen[\"signal\"]) * len(df_sig[mask]) \n",
    "        mask         = (df_sig[operator_name] < 0.) & ((sig_pred >= threshold).flatten())\n",
    "        nsig_neg     = (xsec[\"signal\"] * lumi / ngen[\"signal\"]) * len(df_sig[mask])\n",
    "\n",
    "    else:\n",
    "        mask         = (df_sig[operator_name] > 0.) & ((sig_pred >= threshold).flatten())\n",
    "        nsig_pos     = (xsec[\"signal\"] * lumi / (ngen[\"signal\"]) * len(df_sig[mask])) \n",
    "        mask         = (df_sig[operator_name] < 0.) & ((sig_pred >= threshold).flatten())\n",
    "        nsig_neg     = (xsec[\"signal\"] * lumi / (ngen[\"signal\"])) * len(df_sig[mask])\n",
    "    \n",
    "    mask             = (df_dyjets[operator_name] > 0.) & ((dyjets_preds >= threshold).flatten())\n",
    "    n_dyjets_pos     = (xsec[\"dyjets\"] * lumi / ngen[\"dyjets\"])     * len(df_dyjets[mask])\n",
    "    \n",
    "    mask             = (df_dyjets[operator_name] < 0.) & ((dyjets_preds >= threshold).flatten())\n",
    "    n_dyjets_neg     = (xsec[\"dyjets\"] * lumi / ngen[\"dyjets\"]) * len(df_dyjets[mask])  \n",
    "\n",
    "    mask             = (df_wjets[operator_name] > 0.) & ((wjets_preds >= threshold).flatten())\n",
    "    n_wjets_pos      = (xsec[\"wjets\"] * lumi / ngen[\"wjets\"]) * len(df_wjets[mask])\n",
    "    \n",
    "    mask             = (df_wjets[operator_name] < 0.) & ((wjets_preds >= threshold).flatten())\n",
    "    n_wjets_neg      = (xsec[\"wjets\"] * lumi / ngen[\"wjets\"]) * len(df_wjets[mask])\n",
    "    \n",
    "    mask             = (df_single_top[operator_name] > 0.) & ((single_top_preds >= threshold).flatten())\n",
    "    n_single_top_pos = (xsec[\"single_top\"] * lumi / ngen[\"single_top\"]) * len(df_single_top[mask])\n",
    "\n",
    "    mask             = (df_single_top[operator_name] < 0.) & ((single_top_preds >= threshold).flatten())\n",
    "    n_single_top_neg = (xsec[\"single_top\"] * lumi / ngen[\"single_top\"]) * len(df_single_top[mask])\n",
    "\n",
    "    nbkg_pos =  n_dyjets_pos + n_wjets_pos + n_single_top_pos\n",
    "    nbkg_neg =  n_dyjets_neg + n_wjets_neg + n_single_top_neg\n",
    "    \n",
    "    npos = 1 * nsig_pos + 1 * nbkg_pos\n",
    "    nneg = 1 * nsig_neg + 1 * nbkg_neg\n",
    "    \n",
    "    print(\"operator=%i nsig_pos=%.4f nsig_neg=%.4f nsig_asym=%.5f nbkg_pos=%.4f, nbkg_neg=%.4f nbkg_asym=%.5f\" % \n",
    "         (operator, nsig_pos, nsig_neg, ((nsig_pos-nsig_neg)/(nsig_pos+nsig_neg)), nbkg_pos, nbkg_neg, ((nbkg_pos-nbkg_neg)/(nbkg_pos+nbkg_neg))))\n",
    "    \n",
    "    numerator      = npos - nneg\n",
    "    denominator    = npos + nneg\n",
    "    \n",
    "    if not nodtG:\n",
    "        asymmetry      = numerator / denominator\n",
    "        asymmetry_err  = asymmetry * (1 - denominator**0.5/denominator) + (abs(numerator)**0.5)/denominator\n",
    "        #asymmetry_err  = 2 * asymmetry\n",
    "    else:\n",
    "        asymmetry      = 0\n",
    "        asymmetry_err  = numerator / denominator\n",
    "        \n",
    "    return [asymmetry, asymmetry_err]"
   ]
  },
  {
   "cell_type": "code",
   "execution_count": 7,
   "metadata": {},
   "outputs": [],
   "source": [
    "def plot(i, color, threshold, loc, weights=1):\n",
    "    from scipy.optimize import curve_fit\n",
    "    \n",
    "    def fit_func(x, a, b):\n",
    "        # Curve fitting function\n",
    "        return a * x + b\n",
    "\n",
    "    plt.style.use(['science'])\n",
    "    \n",
    "    y = np.array([calc_asymmetry(df_sig_nodtG, i , threshold, nodtG=1),  \n",
    "                  calc_asymmetry(df_sig_dtG1,  i , threshold),\n",
    "                  calc_asymmetry(df_sig_dtG2,  i , threshold),\n",
    "                  calc_asymmetry(df_sig_dtG3,  i , threshold),\n",
    "                  calc_asymmetry(df_sig_dtG4,  i , threshold),\n",
    "                  calc_asymmetry(df_sig_dtG5,  i , threshold),\n",
    "                  calc_asymmetry(df_sig_dtG10,  i , threshold)])\n",
    "\n",
    "    \n",
    "    asymmetry     = y[:,0]  \n",
    "    asymmetry_err = y[:,1]\n",
    "    \n",
    "    x = [0, 1, 2, 3, 4, 5, 10]\n",
    "    \n",
    "    bkg_only_asym     = np.array(len(x)*[0])\n",
    "    bkg_only_asym_err = np.array(len(x)*[y[0,1]])\n",
    "    \n",
    "    if weights: \n",
    "        params, cov = curve_fit(fit_func, xdata=x[1:], ydata=asymmetry[1:], sigma = asymmetry_err[1:])\n",
    "    else:\n",
    "        params, cov = curve_fit(fit_func, xdata=x[1:], ydata=asymmetry[1:])\n",
    "    \n",
    "    param_errs = np.sqrt(np.diag(cov))\n",
    "    \n",
    "    plt.errorbar(x, asymmetry, yerr = asymmetry_err, color = color, marker = \"o\", linestyle=\"\", capsize=3, label=\"expected asymmetry\")\n",
    "    #plt.plot(x, y(x), color = color, linestyle=\"--\", label='slope = {:.5f} \\nsignificance = {:.2f}'.format(params[0], abs(params[0])/abs(param_errs[0])))\n",
    "    xt = np.linspace(min(x),max(x),50)\n",
    "    plt.plot(xt, np.poly1d(params)(xt), color = color, linestyle=\"--\", label=\"expected asymmetry(fit)\")\n",
    "    plt.fill_between(xt, np.poly1d(params - 1*param_errs)(xt), np.poly1d(params + 1*param_errs)(xt), color=color, alpha=0.2, label=\"$\\pm 1 \\sigma$ fit uncertaintiy\")\n",
    "    plt.fill_between(xt, np.poly1d(params - 2*param_errs)(xt), np.poly1d(params + 2*param_errs)(xt), color=color, alpha=0.1, label=\"$\\pm 2 \\sigma$ fit uncertaintiy\")\n",
    "    plt.fill_between(x, bkg_only_asym-bkg_only_asym_err, bkg_only_asym+bkg_only_asym_err, color = \"k\", alpha = 0.1, hatch=\"/\", label=\"expected background \\n asymmetry ($\\pm 1 \\sigma$)\")\n",
    "    plt.plot(x, bkg_only_asym, linestyle=\"--\", color=\"k\", alpha=0.8)\n",
    "\n",
    "    plt.ylim(-0.015, 0.025)\n",
    "    plt.xlabel(r\"$d_{tG}$\", size=12)\n",
    "    plt.ylabel(r\"A$_{\"+str(i)+\"}$\", size=12)\n",
    "    plt.legend(loc=loc, fontsize=8)"
   ]
  },
  {
   "cell_type": "code",
   "execution_count": null,
   "metadata": {
    "scrolled": false
   },
   "outputs": [
    {
     "name": "stdout",
     "output_type": "stream",
     "text": [
      "0\n",
      "operator=4 nsig_pos=16.8490 nsig_neg=16.9324 nsig_asym=-0.00247 nbkg_pos=3.1517, nbkg_neg=3.2059 nbkg_asym=-0.00853\n",
      "operator=4 nsig_pos=25.6464 nsig_neg=25.5780 nsig_asym=0.00134 nbkg_pos=3.1517, nbkg_neg=3.2059 nbkg_asym=-0.00853\n",
      "operator=4 nsig_pos=25.7081 nsig_neg=25.7258 nsig_asym=-0.00034 nbkg_pos=3.1517, nbkg_neg=3.2059 nbkg_asym=-0.00853\n",
      "operator=4 nsig_pos=25.6841 nsig_neg=25.7739 nsig_asym=-0.00175 nbkg_pos=3.1517, nbkg_neg=3.2059 nbkg_asym=-0.00853\n",
      "operator=4 nsig_pos=25.5660 nsig_neg=25.7789 nsig_asym=-0.00415 nbkg_pos=3.1517, nbkg_neg=3.2059 nbkg_asym=-0.00853\n",
      "operator=4 nsig_pos=25.7422 nsig_neg=25.7739 nsig_asym=-0.00062 nbkg_pos=3.1517, nbkg_neg=3.2059 nbkg_asym=-0.00853\n"
     ]
    }
   ],
   "source": [
    "plt.rcParams[\"figure.figsize\"] = (9,12)\n",
    "threshold = 0.0\n",
    "\n",
    "operators   = [4, 9, 10, 12]\n",
    "colors     = [\"r\", \"b\", \"g\", \"orange\", \"purple\"]\n",
    "legend_loc = ['upper right', 'upper left', 'upper right', 'upper left', 'upper right']\n",
    "\n",
    "for i, operator  in enumerate(operators):\n",
    "    print(i)\n",
    "    plt.subplot(3, 2, i+1)\n",
    "    plot(operator, colors[i], threshold, legend_loc[i], weights=1)\n",
    "plt.tight_layout()\n",
    "plt.savefig(\"asymmetry_ML_0_\"+str(int(100*threshold))+\".pdf\")"
   ]
  },
  {
   "cell_type": "code",
   "execution_count": null,
   "metadata": {},
   "outputs": [],
   "source": []
  }
 ],
 "metadata": {
  "kernelspec": {
   "display_name": "Python 3",
   "language": "python",
   "name": "python3"
  },
  "language_info": {
   "codemirror_mode": {
    "name": "ipython",
    "version": 3
   },
   "file_extension": ".py",
   "mimetype": "text/x-python",
   "name": "python",
   "nbconvert_exporter": "python",
   "pygments_lexer": "ipython3",
   "version": "3.6.9"
  }
 },
 "nbformat": 4,
 "nbformat_minor": 4
}
