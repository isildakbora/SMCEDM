{
 "cells": [
  {
   "cell_type": "code",
   "execution_count": 1,
   "metadata": {},
   "outputs": [
    {
     "data": {
      "text/html": [
       "<style>.container { width:100% !important; }</style>"
      ],
      "text/plain": [
       "<IPython.core.display.HTML object>"
      ]
     },
     "metadata": {},
     "output_type": "display_data"
    }
   ],
   "source": [
    "%config InlineBackend.figure_format = \"retina\"\n",
    "from IPython.core.display import display, HTML\n",
    "display(HTML(\"<style>.container { width:100% !important; }</style>\"))"
   ]
  },
  {
   "cell_type": "code",
   "execution_count": 2,
   "metadata": {},
   "outputs": [
    {
     "name": "stdout",
     "output_type": "stream",
     "text": [
      "Welcome to JupyROOT 6.18/04\n"
     ]
    },
    {
     "name": "stderr",
     "output_type": "stream",
     "text": [
      "In /home/bora/.local/lib/python3.6/site-packages/matplotlib/mpl-data/stylelib/_classic_test.mplstyle: \n",
      "The text.latex.preview rcparam was deprecated in Matplotlib 3.3 and will be removed two minor releases later.\n",
      "In /home/bora/.local/lib/python3.6/site-packages/matplotlib/mpl-data/stylelib/_classic_test.mplstyle: \n",
      "The mathtext.fallback_to_cm rcparam was deprecated in Matplotlib 3.3 and will be removed two minor releases later.\n",
      "In /home/bora/.local/lib/python3.6/site-packages/matplotlib/mpl-data/stylelib/_classic_test.mplstyle: Support for setting the 'mathtext.fallback_to_cm' rcParam is deprecated since 3.3 and will be removed two minor releases later; use 'mathtext.fallback : 'cm' instead.\n",
      "In /home/bora/.local/lib/python3.6/site-packages/matplotlib/mpl-data/stylelib/_classic_test.mplstyle: \n",
      "The validate_bool_maybe_none function was deprecated in Matplotlib 3.3 and will be removed two minor releases later.\n",
      "In /home/bora/.local/lib/python3.6/site-packages/matplotlib/mpl-data/stylelib/_classic_test.mplstyle: \n",
      "The savefig.jpeg_quality rcparam was deprecated in Matplotlib 3.3 and will be removed two minor releases later.\n",
      "In /home/bora/.local/lib/python3.6/site-packages/matplotlib/mpl-data/stylelib/_classic_test.mplstyle: \n",
      "The keymap.all_axes rcparam was deprecated in Matplotlib 3.3 and will be removed two minor releases later.\n",
      "In /home/bora/.local/lib/python3.6/site-packages/matplotlib/mpl-data/stylelib/_classic_test.mplstyle: \n",
      "The animation.avconv_path rcparam was deprecated in Matplotlib 3.3 and will be removed two minor releases later.\n",
      "In /home/bora/.local/lib/python3.6/site-packages/matplotlib/mpl-data/stylelib/_classic_test.mplstyle: \n",
      "The animation.avconv_args rcparam was deprecated in Matplotlib 3.3 and will be removed two minor releases later.\n"
     ]
    }
   ],
   "source": [
    "import ROOT\n",
    "import numpy as np\n",
    "import pandas as pd\n",
    "import matplotlib.pyplot as plt\n",
    "import uproot"
   ]
  },
  {
   "cell_type": "code",
   "execution_count": null,
   "metadata": {},
   "outputs": [
    {
     "name": "stderr",
     "output_type": "stream",
     "text": [
      "Using TensorFlow backend.\n"
     ]
    }
   ],
   "source": [
    "from keras.models import load_model\n",
    "# load model\n",
    "model = load_model('model.h5')"
   ]
  },
  {
   "cell_type": "code",
   "execution_count": null,
   "metadata": {},
   "outputs": [],
   "source": [
    "branches = ['br_njets', 'br_nbjets', 'br_scalar_ht',\n",
    "       'br_jet_pt_1', 'br_jet_pt_2', 'br_jet_pt_3', 'br_jet_pt_4', 'br_met',\n",
    "       'br_met_phi', 'br_sphericity', 'br_aplanarity', 'br_fox_wolfram_1',\n",
    "       'br_fox_wolfram_2', 'br_fox_wolfram_3', 'br_fox_wolfram_4', 'br_w_pt', 'br_w_eta', 'br_w_phi', \n",
    "       'br_operator_4', 'br_operator_9', 'br_operator_10', 'br_operator_12','br_operator_14' ]\n",
    "\n",
    "input_branches = ['br_njets', 'br_nbjets', 'br_scalar_ht',\n",
    "       'br_jet_pt_1', 'br_jet_pt_2', 'br_jet_pt_3', 'br_jet_pt_4', 'br_met',\n",
    "       'br_met_phi', 'br_sphericity', 'br_aplanarity', 'br_fox_wolfram_1',\n",
    "       'br_fox_wolfram_2', 'br_fox_wolfram_3', 'br_fox_wolfram_4', 'br_w_pt', 'br_w_eta', 'br_w_phi']\n",
    "\n",
    "df_sig_nodtG = uproot.open(\"/mnt/harddisk4/scratch/ttbar_no_dtG_flat.root\")[\"outtree\"].pandas.df(branches)\n",
    "df_sig_dtG1  = uproot.open(\"/mnt/harddisk4/scratch/signal_dtG1_flat.root\")[\"outtree\"].pandas.df(branches)\n",
    "df_sig_dtG2  = uproot.open(\"/mnt/harddisk4/scratch/signal_dtG2_flat.root\")[\"outtree\"].pandas.df(branches)\n",
    "df_sig_dtG3  = uproot.open(\"/mnt/harddisk4/scratch/signal_dtG3_flat.root\")[\"outtree\"].pandas.df(branches)\n",
    "df_sig_dtG4  = uproot.open(\"/mnt/harddisk4/scratch/signal_dtG4_flat.root\")[\"outtree\"].pandas.df(branches)\n",
    "df_sig_dtG5  = uproot.open(\"/mnt/harddisk4/scratch/signal_dtG5_flat.root\")[\"outtree\"].pandas.df(branches)\n",
    "df_sig_dtG10 = uproot.open(\"/mnt/harddisk4/scratch/signal_dtG10_flat.root\")[\"outtree\"].pandas.df(branches)\n",
    "\n",
    "df_dyjets      = uproot.open(\"/mnt/harddisk4/scratch/dyjets_flat_30M.root\")[\"outtree\"].pandas.df(branches)\n",
    "df_wjets       = uproot.open(\"/mnt/harddisk4/scratch/wjets_flat_60M.root\")[\"outtree\"].pandas.df(branches)\n",
    "df_single_top  = uproot.open(\"/mnt/harddisk4/scratch/single_top_merged_flat.root\")[\"outtree\"].pandas.df(branches)\n",
    "\n",
    "#df_sig_nodtG   = pd.read_hdf(\"test_data.h5\",\"df_sig_test\")\n",
    "#df_dyjets      = pd.read_hdf(\"test_data.h5\",\"df_dyjets_test\")\n",
    "#df_wjets       = pd.read_hdf(\"test_data.h5\",\"df_wjets_test\")\n",
    "#df_single_top  = pd.read_hdf(\"test_data.h5\",\"df_single_top_test\")"
   ]
  },
  {
   "cell_type": "code",
   "execution_count": null,
   "metadata": {},
   "outputs": [],
   "source": [
    "xsec = {\"signal\":0.3*832, \"dyjets\":6500, \"wjets\":123000, \"single_top\":0.2*286.7}\n",
    "\n",
    "ngen_signal     = len(uproot.open(\"/mnt/harddisk4/scratch/signal_dtG1_delphes.root\")[\"Delphes\"])\n",
    "ngen_dyjets     = len(uproot.open(\"/mnt/harddisk4/scratch/dyjets_delphes_30M.root\")[\"Delphes\"])\n",
    "ngen_wjets      = len(uproot.open(\"/mnt/harddisk4/scratch/wjets_delphes_60M.root\")[\"Delphes\"])\n",
    "ngen_single_top = len(uproot.open(\"/mnt/harddisk4/scratch/single_top_merged_delphes.root\")[\"Delphes\"])\n",
    "\n",
    "ngen = {\"signal\":ngen_signal, \"dyjets\":ngen_dyjets, \"wjets\":ngen_wjets, \"single_top\":ngen_single_top}\n",
    "print(ngen)"
   ]
  },
  {
   "cell_type": "code",
   "execution_count": null,
   "metadata": {},
   "outputs": [],
   "source": [
    "def calc_asymmetry(df_sig, operator, threshold, nodtG=0):\n",
    "    lumi = 1\n",
    "    operator_name = 'br_operator_'+str(operator)\n",
    "    \n",
    "    from sklearn.externals import joblib\n",
    "    scaler = joblib.load(\"scaler.save\")\n",
    "    \n",
    "    batch_size = 2**20\n",
    "    sig_pred         = model.predict_proba(scaler.transform(df_sig[input_branches]), batch_size= batch_size)\n",
    "    dyjets_preds     = model.predict_proba(scaler.transform(df_dyjets[input_branches]), batch_size= batch_size)\n",
    "    wjets_preds      = model.predict_proba(scaler.transform(df_wjets[input_branches]), batch_size= batch_size)\n",
    "    single_top_preds = model.predict_proba(scaler.transform(df_single_top[input_branches]), batch_size= batch_size)\n",
    "    \n",
    "    if not nodtG:\n",
    "        mask         = (df_sig[operator_name] > 0.) & ((sig_pred >= threshold).flatten())\n",
    "        nsig_pos     = (xsec[\"signal\"] * lumi / ngen[\"signal\"]) * len(df_sig[mask]) \n",
    "        mask         = (df_sig[operator_name] < 0.) & ((sig_pred >= threshold).flatten())\n",
    "        nsig_neg     = (xsec[\"signal\"] * lumi / ngen[\"signal\"]) * len(df_sig[mask])\n",
    "\n",
    "    else:\n",
    "        mask         = (df_sig[operator_name] > 0.) & ((sig_pred >= threshold).flatten())\n",
    "        nsig_pos     = (xsec[\"signal\"] * lumi / (ngen[\"signal\"]) * len(df_sig[mask])) \n",
    "        mask         = (df_sig[operator_name] < 0.) & ((sig_pred >= threshold).flatten())\n",
    "        nsig_neg     = (xsec[\"signal\"] * lumi / (ngen[\"signal\"])) * len(df_sig[mask])\n",
    "    \n",
    "    mask             = (df_dyjets[operator_name] > 0.) & ((dyjets_preds >= threshold).flatten())\n",
    "    n_dyjets_pos     = (xsec[\"dyjets\"] * lumi / ngen[\"dyjets\"])     * len(df_dyjets[mask])\n",
    "    \n",
    "    mask             = (df_dyjets[operator_name] < 0.) & ((dyjets_preds >= threshold).flatten())\n",
    "    n_dyjets_neg     = (xsec[\"dyjets\"] * lumi / ngen[\"dyjets\"]) * len(df_dyjets[mask])  \n",
    "\n",
    "    mask             = (df_wjets[operator_name] > 0.) & ((wjets_preds >= threshold).flatten())\n",
    "    n_wjets_pos      = (xsec[\"wjets\"] * lumi / ngen[\"wjets\"]) * len(df_wjets[mask])\n",
    "    \n",
    "    mask             = (df_wjets[operator_name] < 0.) & ((wjets_preds >= threshold).flatten())\n",
    "    n_wjets_neg      = (xsec[\"wjets\"] * lumi / ngen[\"wjets\"]) * len(df_wjets[mask])\n",
    "    \n",
    "    mask             = (df_single_top[operator_name] > 0.) & ((single_top_preds >= threshold).flatten())\n",
    "    n_single_top_pos = (xsec[\"single_top\"] * lumi / ngen[\"single_top\"]) * len(df_single_top[mask])\n",
    "\n",
    "    mask             = (df_single_top[operator_name] < 0.) & ((single_top_preds >= threshold).flatten())\n",
    "    n_single_top_neg = (xsec[\"single_top\"] * lumi / ngen[\"single_top\"]) * len(df_single_top[mask])\n",
    "\n",
    "    nbkg_pos =  n_dyjets_pos + n_wjets_pos + n_single_top_pos\n",
    "    nbkg_neg =  n_dyjets_neg + n_wjets_neg + n_single_top_neg\n",
    "    \n",
    "    npos = 1 * nsig_pos + 1 * nbkg_pos\n",
    "    nneg = 1 * nsig_neg + 1 * nbkg_neg\n",
    "    \n",
    "    print(\"operator=%i nsig_pos=%.4f nsig_neg=%.4f nsig_asym=%.5f nbkg_pos=%.4f, nbkg_neg=%.4f nbkg_asym=%.5f\" % \n",
    "         (operator, nsig_pos, nsig_neg, ((nsig_pos-nsig_neg)/(nsig_pos+nsig_neg)), nbkg_pos, nbkg_neg, ((nbkg_pos-nbkg_neg)/(nbkg_pos+nbkg_neg))))\n",
    "    \n",
    "    numerator      = npos - nneg\n",
    "    denominator    = npos + nneg\n",
    "    \n",
    "    if not nodtG:\n",
    "        asymmetry      = numerator / denominator\n",
    "        asymmetry_err  = asymmetry * (1 - denominator**0.5/denominator) + (abs(numerator)**0.5)/denominator\n",
    "        #asymmetry_err  = 2 * asymmetry\n",
    "    else:\n",
    "        asymmetry      = 0\n",
    "        asymmetry_err  = numerator / denominator\n",
    "        \n",
    "    return [asymmetry, asymmetry_err]"
   ]
  },
  {
   "cell_type": "code",
   "execution_count": null,
   "metadata": {},
   "outputs": [],
   "source": [
    "def plot(i, color, threshold, loc, weights=1):\n",
    "    from scipy.optimize import curve_fit\n",
    "    \n",
    "    def fit_func(x, a, b):\n",
    "        # Curve fitting function\n",
    "        return a * x + b\n",
    "\n",
    "    plt.style.use(['science'])\n",
    "    \n",
    "    y = np.array([calc_asymmetry(df_sig_nodtG, i , threshold, nodtG=1),  \n",
    "                  calc_asymmetry(df_sig_dtG1,  i , threshold),\n",
    "                  calc_asymmetry(df_sig_dtG2,  i , threshold),\n",
    "                  calc_asymmetry(df_sig_dtG3,  i , threshold),\n",
    "                  calc_asymmetry(df_sig_dtG4,  i , threshold),\n",
    "                  calc_asymmetry(df_sig_dtG5,  i , threshold),\n",
    "                  calc_asymmetry(df_sig_dtG10,  i , threshold)])\n",
    "\n",
    "    \n",
    "    asymmetry     = y[:,0]  \n",
    "    asymmetry_err = y[:,1]\n",
    "    \n",
    "    x = [0, 1, 2, 3, 4, 5, 10]\n",
    "    \n",
    "    bkg_only_asym     = np.array(len(x)*[0])\n",
    "    bkg_only_asym_err = np.array(len(x)*[y[0,1]])\n",
    "    \n",
    "    if weights: \n",
    "        params, cov = curve_fit(fit_func, xdata=x[1:], ydata=asymmetry[1:], sigma = asymmetry_err[1:])\n",
    "    else:\n",
    "        params, cov = curve_fit(fit_func, xdata=x[1:], ydata=asymmetry[1:])\n",
    "    \n",
    "    param_errs = np.sqrt(np.diag(cov))\n",
    "    \n",
    "    plt.errorbar(x, asymmetry, yerr = asymmetry_err, color = color, marker = \"o\", linestyle=\"\", capsize=3, label=\"expected asymmetry\")\n",
    "    #plt.plot(x, y(x), color = color, linestyle=\"--\", label='slope = {:.5f} \\nsignificance = {:.2f}'.format(params[0], abs(params[0])/abs(param_errs[0])))\n",
    "    xt = np.linspace(min(x),max(x),50)\n",
    "    plt.plot(xt, np.poly1d(params)(xt), color = color, linestyle=\"--\", label=\"expected asymmetry(fit)\")\n",
    "    plt.fill_between(xt, np.poly1d(params - 1*param_errs)(xt), np.poly1d(params + 1*param_errs)(xt), color=color, alpha=0.2, label=\"$\\pm 1 \\sigma$ fit uncertaintiy\")\n",
    "    plt.fill_between(xt, np.poly1d(params - 2*param_errs)(xt), np.poly1d(params + 2*param_errs)(xt), color=color, alpha=0.1, label=\"$\\pm 2 \\sigma$ fit uncertaintiy\")\n",
    "    plt.fill_between(x, bkg_only_asym-bkg_only_asym_err, bkg_only_asym+bkg_only_asym_err, color = \"k\", alpha = 0.1, hatch=\"/\", label=\"expected background \\n asymmetry ($\\pm 1 \\sigma$)\")\n",
    "    plt.plot(x, bkg_only_asym, linestyle=\"--\", color=\"k\", alpha=0.8)\n",
    "\n",
    "    plt.ylim(-0.015, 0.025)\n",
    "    plt.xlabel(r\"$d_{tG}$\", size=12)\n",
    "    plt.ylabel(r\"A$_{\"+str(i)+\"}$\", size=12)\n",
    "    plt.legend(loc=loc, fontsize=8)"
   ]
  },
  {
   "cell_type": "code",
   "execution_count": null,
   "metadata": {
    "scrolled": false
   },
   "outputs": [],
   "source": [
    "plt.rcParams[\"figure.figsize\"] = (9,12)\n",
    "threshold = 0.83\n",
    "\n",
    "operators   = [4, 9, 10, 12, 14]\n",
    "colors     = [\"r\", \"b\", \"g\", \"orange\", \"purple\"]\n",
    "legend_loc = ['upper right', 'upper left', 'upper right', 'upper left', 'upper right']\n",
    "\n",
    "for i, operator  in enumerate(operators):\n",
    "    print(i)\n",
    "    plt.subplot(3, 2, i+1)\n",
    "    plot(operator, colors[i], threshold, legend_loc[i], weights=1)\n",
    "plt.tight_layout()\n",
    "plt.savefig(\"asymmetry_ML_0_\"+str(int(100*threshold))+\".pdf\")"
   ]
  },
  {
   "cell_type": "code",
   "execution_count": null,
   "metadata": {},
   "outputs": [],
   "source": []
  }
 ],
 "metadata": {
  "kernelspec": {
   "display_name": "Python 3",
   "language": "python",
   "name": "python3"
  },
  "language_info": {
   "codemirror_mode": {
    "name": "ipython",
    "version": 3
   },
   "file_extension": ".py",
   "mimetype": "text/x-python",
   "name": "python",
   "nbconvert_exporter": "python",
   "pygments_lexer": "ipython3",
   "version": "3.6.9"
  }
 },
 "nbformat": 4,
 "nbformat_minor": 4
}
