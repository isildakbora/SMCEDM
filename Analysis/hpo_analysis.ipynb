{
 "cells": [
  {
   "cell_type": "code",
   "execution_count": 1,
   "metadata": {},
   "outputs": [],
   "source": [
    "import pickle as pkl\n",
    "import numpy as np"
   ]
  },
  {
   "cell_type": "code",
   "execution_count": 2,
   "metadata": {},
   "outputs": [],
   "source": [
    "with open('history.log', 'rb') as fp:\n",
    "    historylist = pkl.load(fp)"
   ]
  },
  {
   "cell_type": "code",
   "execution_count": 3,
   "metadata": {},
   "outputs": [
    {
     "name": "stdout",
     "output_type": "stream",
     "text": [
      "1023 0.8665502667427063\n",
      "{'activation1': 'relu', 'activation2': 'tanh', 'activation3': 'relu', 'activation4': 'relu', 'first_hidden_layer': 128, 'second_hidden_layer': 128, 'third_hidden_layer': 64, 'fourth_hidden_layer': 128, 'batch_size': 512, 'epochs': 50, 'learn_rate': 0.00146, 'weight_regulizer': None, 'emb_output_dims': None, 'optimizer': 'Adam', 'losses': 'logcosh', 'last_activation': 'tanh', 'kernel_initializer': 'glorot_normal'}\n"
     ]
    }
   ],
   "source": [
    "i_max = 0\n",
    "val_acc_max = 0 \n",
    "\n",
    "for i in range(len(historylist)):\n",
    "    if max(historylist[i][2]) > val_acc_max:\n",
    "        val_acc_max = max(historylist[i][2])\n",
    "        i_max = i\n",
    "print(i, val_acc_max)\n",
    "print(historylist[i_max][0])"
   ]
  },
  {
   "cell_type": "code",
   "execution_count": null,
   "metadata": {},
   "outputs": [],
   "source": []
  }
 ],
 "metadata": {
  "kernelspec": {
   "display_name": "Python 3",
   "language": "python",
   "name": "python3"
  },
  "language_info": {
   "codemirror_mode": {
    "name": "ipython",
    "version": 3
   },
   "file_extension": ".py",
   "mimetype": "text/x-python",
   "name": "python",
   "nbconvert_exporter": "python",
   "pygments_lexer": "ipython3",
   "version": "3.6.9"
  }
 },
 "nbformat": 4,
 "nbformat_minor": 4
}
